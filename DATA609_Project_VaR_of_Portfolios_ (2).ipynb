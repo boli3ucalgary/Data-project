{
  "cells": [
    {
      "cell_type": "markdown",
      "metadata": {
        "id": "MbfInTYA6NT0"
      },
      "source": [
        "\n",
        "# **Value at Risk (VaR) of Portfolios**\n",
        "\n",
        "* **Bo Li** (30212597)\n",
        "* **Brian Ho** (30222881)"
      ]
    },
    {
      "cell_type": "markdown",
      "metadata": {
        "id": "qKJdkoz0FW8s"
      },
      "source": [
        "# Definition\n",
        "\n",
        "Risk management is a crucial (and often obligatory) component of the investment lifecycle. One of the most useful risk assessment measures is known as Value at Risk (VaR), which has been used by financial professionals for decades to quantify portfolio risk. In cryptocurrency markets, risk management remains a complex and evolving area of study due to frequent changes in market structure, high volatility, and limited availability of historical data. (Kenton 2023)\n",
        "\n",
        "\n",
        "Value-at-Risk (VaR) is a quantitative tool used to measure the maximum potential loss in value of a portfolio of assets over a defined period for a given probability. Specifically, VaR construction requires a quantile estimate of the far-left tail of the unconditional returns distribution. Though widely-used as a risk measure in the past, standard methods of VaR construction assuming iid-ness and normality have come under criticism.\n",
        "\n",
        "VaR can be viewed as an acceptable loss, given a confidence level, which makes it a particularly useful metric for compliance purposes as well as capital requirement planning. Since the VaR for different confidence levels exhaustively describes the investment profitability, it can be used for investment management, allowing us to define limit-order levels to crystallize profits or cut losses.\n",
        "\n",
        "VaR is also well-used in risk-budgeting for optimizing the allocation of assets within a portfolio or for analyzing the impact of a trade on portfolio risk. In practice, this would involve only adding an asset to a portfolio if it keeps losses within the specified VaR parameters.\n",
        "\n",
        "# Methods of Calculating VaR\n",
        "\n",
        "There are three main ways of calculating Value at Risk (VaR) including parametric (historical) method, non-parametric (variance-covariance) method, and Monte Carlo simulation method.\n",
        "\n",
        "## 1. Historical Method (Non-Parametric)\n",
        "\n",
        "- Methodology: This method relies on historical returns to estimate VaR. It involves sorting historical returns, selecting the appropriate percentile corresponding to the desired confidence level, and using it as the VaR estimate (Manganelli & Engle, 2001).\n",
        "- Advantages: It is simple to implement without any distributional assumptions, which captures only historical market behavior.\n",
        "- Disadvantages: It may not capture future market conditions, sensitive to outliers and non-stationarity and requires a long history of data for reliable estimates.\n",
        "\n",
        "## 2. The Variance-Covariance Method (Parametric)\n",
        "\n",
        "- Methodology: This method assumes a specific distribution for asset returns, typically Normal distribution, and estimates the parameters of the distribution (mean and standard deviation) from historical data. VaR is then calculated based on the chosen distribution (Manganelli & Engle, 2001), with the formula:\n",
        "$$\n",
        "VaR = \\mu + z*\\sigma\\\\\n",
        "\\text{, where $\\mu$ is the mean return, $z$ is the z-score at based on the level of confidence selected, and $\\sigma$ is the standard deviation.}\n",
        "$$\n",
        "\n",
        "- Advantages: It allows modelling more complex portfolios that can incorporate additional statistical techniques, such as volatility clustering.\n",
        "- Disadvantages: It relies on distributional assumptions which may not hold in all market conditions or porfolios, sensitive to model misspecification, and requires a large sample size for accurate parameter estimation.\n",
        "\n",
        "## 3. Monte Carlo Simulation\n",
        "\n",
        "- Methodology: This method involves simulating thousands or millions of possible future scenarios for asset returns based on historical data or assumed distributions. VaR is then estimated based on the distribution of simulated portfolio returns (Manganelli & Engle, 2001). For most users, a Monte Carlo simulation amounts to a \"black box\" generator of random, probabilistic outcomes. This technique requires the use of computational models to simulate projected returns over hundreds or thousands of possible iterations.(Team, 2022)\n",
        "- Advantages: It is more flexible method that can capture complex dependencies and nonlinearities, providing insights into tail risks and extreme events.\n",
        "- Disadvantages: It is computationally intensive, which requires careful modeling of correlations and dependencies, results can be sensitive to input assumptions.\n",
        "\n",
        "\n",
        "# Application\n",
        "\n",
        "VaR measures serve various purposes, including risk management, assessing the performance of risk-taking activities, and meeting regulatory obligations, as outlined by the Basel Committee on Banking Supervision in 1996. Financial institutions, including banks and investment firms, are required to adhere to capital requirements based on VaR estimates. Thus, the accuracy of these estimates is paramount. Failure to accurately assess underlying risks can result in inefficient capital allocation, impacting institutions' profitability and financial stability (Manganelli & Engle, 2001).\n",
        "\n",
        "In this comprehensive project, our endeavor involves meticulously gathering data spanning from February 19th, 2019, to February 16th, 2024, encompassing three distinct datasets: fiat, crypto, and derivatives, collecting from Yahoo Finance and MarketWatch websites.\n",
        "\n",
        "* Fiat: Daily colsing price of CNY(Chinese Yuan) and ARS (Argetina Pesso) comparing to USD\n",
        "* Crypto: Daily colsing price of Bitcoin, Ethereum, and Doge Coin comparing to USD\n",
        "* Derivatives (futures): Daily colsing price of E-Mini S&P 500 Future Continuous Contract and Crude Oil WTI (NYM $/bbl) Front Month Contract comparing to USD\n",
        "\n",
        "\n",
        "Within the ambit of this project, we undertake a sophisticated simulation wherein we allocate an initial investment of $10,000 across all three portfolio sets, each with its distinct characteristics. Our methodology involves a meticulous comparison of outcomes across all portfolios employing three distinct analytical methods. Our overarching objective is to discern which portfolio harbors the least risk, denoted by the minimal loss in the Value at Risk (VaR) evaluation. Furthermore, we aim to scrutinize the nuances in outcomes across all three methods, discerning the disparities and elucidating the implications for prudent investment strategies."
      ]
    },
    {
      "cell_type": "markdown",
      "metadata": {
        "execution": {
          "iopub.execute_input": "2023-02-22T18:11:05.284403Z",
          "iopub.status.busy": "2023-02-22T18:11:05.283833Z",
          "iopub.status.idle": "2023-02-22T18:11:05.307914Z",
          "shell.execute_reply": "2023-02-22T18:11:05.30649Z",
          "shell.execute_reply.started": "2023-02-22T18:11:05.284273Z"
        },
        "id": "5_rat90T6NT2"
      },
      "source": [
        "## Packages"
      ]
    },
    {
      "cell_type": "code",
      "execution_count": 23,
      "metadata": {
        "execution": {
          "iopub.execute_input": "2023-02-23T14:56:28.275057Z",
          "iopub.status.busy": "2023-02-23T14:56:28.274584Z",
          "iopub.status.idle": "2023-02-23T14:56:28.56489Z",
          "shell.execute_reply": "2023-02-23T14:56:28.563761Z",
          "shell.execute_reply.started": "2023-02-23T14:56:28.275016Z"
        },
        "id": "8NzLv9-H6NT2",
        "trusted": true
      },
      "outputs": [],
      "source": [
        "import pandas as pd\n",
        "import numpy as np\n",
        "from scipy.stats import norm\n",
        "import matplotlib.pyplot as plt"
      ]
    },
    {
      "cell_type": "markdown",
      "metadata": {
        "id": "afMWGWUlUeJu"
      },
      "source": [
        "## Initial Portfolio"
      ]
    },
    {
      "cell_type": "code",
      "execution_count": 24,
      "metadata": {
        "id": "WyQOYsP8Ucj3"
      },
      "outputs": [],
      "source": [
        "initial_amount = 10000 # initial investment of $10000\n",
        "N = 7 # number of assets\n",
        "# equal weight of each asset\n",
        "# w = 1/7 for ARS, CNY, BTC, ETH, DOGE, SPXf and OILf respectively\n",
        "w = np.array([1/N]*N)"
      ]
    },
    {
      "cell_type": "markdown",
      "metadata": {
        "id": "hZJcjMqx6NT2"
      },
      "source": [
        "## Historical Closing Price Data"
      ]
    },
    {
      "cell_type": "markdown",
      "metadata": {},
      "source": [
        "The following historical data collected from Yahoo Finance and MarketWatch is used below for the computation of VaR through the three introduced methods. The extracted data includes the `Date` and `Close` (closing price) of each asset from February 19th, 2019, to February 16th, 2024."
      ]
    },
    {
      "cell_type": "code",
      "execution_count": 25,
      "metadata": {
        "id": "IJlijy-XeYh0"
      },
      "outputs": [],
      "source": [
        "# read the data from the csv files\n",
        "ARS = pd.read_csv(\"https://raw.githubusercontent.com/bakkiuho/DATA609_project/main/ARSUSD%3DX.csv\", \n",
        "                  usecols = [\"Date\", \"Close\"])\n",
        "CNY = pd.read_csv(\"https://raw.githubusercontent.com/bakkiuho/DATA609_project/main/CNYUSD%3DX.csv\", \n",
        "                  usecols = [\"Date\", \"Close\"])\n",
        "BTC = pd.read_csv(\"https://raw.githubusercontent.com/bakkiuho/DATA609_project/main/BTC-USD.csv\", \n",
        "                  usecols = [\"Date\", \"Close\"])\n",
        "ETH = pd.read_csv(\"https://raw.githubusercontent.com/bakkiuho/DATA609_project/main/ETH-USD.csv\", \n",
        "                  usecols = [\"Date\", \"Close\"])\n",
        "DOGE = pd.read_csv(\"https://raw.githubusercontent.com/bakkiuho/DATA609_project/main/DOGE-USD.csv\", \n",
        "                   usecols = [\"Date\", \"Close\"])\n",
        "SPXf = pd.read_csv(\"https://raw.githubusercontent.com/bakkiuho/DATA609_project/main/FUTURE_US_XCME_ES00.csv\", \n",
        "                   usecols = [\"Date\", \"Close\"])\n",
        "OILf = pd.read_csv(\"https://raw.githubusercontent.com/bakkiuho/DATA609_project/main/FUTURE_US_XNYM_CL.1.csv\", \n",
        "                   usecols = [\"Date\", \"Close\"])"
      ]
    },
    {
      "cell_type": "code",
      "execution_count": 26,
      "metadata": {
        "colab": {
          "base_uri": "https://localhost:8080/"
        },
        "id": "lihndiuHhHJD",
        "outputId": "22ae4fa6-e4ec-4d3a-c3a9-cd437a5e7570"
      },
      "outputs": [],
      "source": [
        "# merge the fiat data into one dataframe\n",
        "fiat = pd.DataFrame()\n",
        "fiat[\"Date\"] = ARS.Date\n",
        "fiat[\"ARS\"] = ARS.Close\n",
        "fiat[\"CNY\"] = CNY.Close\n",
        "fiat.Date = pd.to_datetime(fiat.Date) # convert the date to datetime format\n",
        "fiat = fiat.dropna() # drop all the missing values\n",
        "\n",
        "# merge the crypto data into one dataframe\n",
        "crypto = pd.DataFrame()\n",
        "crypto[\"Date\"] = BTC.Date\n",
        "crypto[\"BTC\"] = BTC.Close\n",
        "crypto[\"ETH\"] = ETH.Close\n",
        "crypto[\"DOGE\"] = DOGE.Close\n",
        "crypto.Date = pd.to_datetime(crypto.Date) # convert the date to datetime format\n",
        "crypto = crypto.dropna() # drop all the missing values\n",
        "\n",
        "# merge the future data into one dataframe\n",
        "future = pd.merge(SPXf, OILf, \n",
        "                  on = \"Date\", \n",
        "                  how = \"inner\").rename(columns = {\"Close_x\": \"SPX_future\", \"Close_y\": \"OIL_future\"})\n",
        "future.Date = pd.to_datetime(future.Date) # convert the date to datetime format\n",
        "future = future.dropna() # drop all the missing values"
      ]
    },
    {
      "cell_type": "code",
      "execution_count": 27,
      "metadata": {
        "colab": {
          "base_uri": "https://localhost:8080/",
          "height": 238
        },
        "id": "7NIV9sR7mSpK",
        "outputId": "782e5dd5-dbaa-487a-eff6-9db436a8e829"
      },
      "outputs": [
        {
          "data": {
            "text/html": [
              "<div>\n",
              "<style scoped>\n",
              "    .dataframe tbody tr th:only-of-type {\n",
              "        vertical-align: middle;\n",
              "    }\n",
              "\n",
              "    .dataframe tbody tr th {\n",
              "        vertical-align: top;\n",
              "    }\n",
              "\n",
              "    .dataframe thead th {\n",
              "        text-align: right;\n",
              "    }\n",
              "</style>\n",
              "<table border=\"1\" class=\"dataframe\">\n",
              "  <thead>\n",
              "    <tr style=\"text-align: right;\">\n",
              "      <th></th>\n",
              "      <th>ARS</th>\n",
              "      <th>CNY</th>\n",
              "      <th>BTC</th>\n",
              "      <th>ETH</th>\n",
              "      <th>DOGE</th>\n",
              "      <th>SPX_future</th>\n",
              "      <th>OIL_future</th>\n",
              "    </tr>\n",
              "    <tr>\n",
              "      <th>Date</th>\n",
              "      <th></th>\n",
              "      <th></th>\n",
              "      <th></th>\n",
              "      <th></th>\n",
              "      <th></th>\n",
              "      <th></th>\n",
              "      <th></th>\n",
              "    </tr>\n",
              "  </thead>\n",
              "  <tbody>\n",
              "    <tr>\n",
              "      <th>2019-02-19</th>\n",
              "      <td>0.025829</td>\n",
              "      <td>0.147804</td>\n",
              "      <td>3947.094482</td>\n",
              "      <td>145.346191</td>\n",
              "      <td>0.002067</td>\n",
              "      <td>2778.7</td>\n",
              "      <td>56.09</td>\n",
              "    </tr>\n",
              "    <tr>\n",
              "      <th>2019-02-20</th>\n",
              "      <td>0.025466</td>\n",
              "      <td>0.147979</td>\n",
              "      <td>3999.820557</td>\n",
              "      <td>149.554337</td>\n",
              "      <td>0.002079</td>\n",
              "      <td>2787.0</td>\n",
              "      <td>56.92</td>\n",
              "    </tr>\n",
              "    <tr>\n",
              "      <th>2019-02-21</th>\n",
              "      <td>0.025212</td>\n",
              "      <td>0.148803</td>\n",
              "      <td>3954.118164</td>\n",
              "      <td>146.130844</td>\n",
              "      <td>0.002028</td>\n",
              "      <td>2774.2</td>\n",
              "      <td>56.96</td>\n",
              "    </tr>\n",
              "    <tr>\n",
              "      <th>2019-02-22</th>\n",
              "      <td>0.025305</td>\n",
              "      <td>0.148829</td>\n",
              "      <td>4005.526611</td>\n",
              "      <td>149.092453</td>\n",
              "      <td>0.002056</td>\n",
              "      <td>2791.2</td>\n",
              "      <td>57.26</td>\n",
              "    </tr>\n",
              "    <tr>\n",
              "      <th>2019-02-25</th>\n",
              "      <td>0.025350</td>\n",
              "      <td>0.148960</td>\n",
              "      <td>3882.696289</td>\n",
              "      <td>139.822861</td>\n",
              "      <td>0.002030</td>\n",
              "      <td>2797.1</td>\n",
              "      <td>55.48</td>\n",
              "    </tr>\n",
              "  </tbody>\n",
              "</table>\n",
              "</div>"
            ],
            "text/plain": [
              "                 ARS       CNY          BTC         ETH      DOGE  SPX_future  \\\n",
              "Date                                                                            \n",
              "2019-02-19  0.025829  0.147804  3947.094482  145.346191  0.002067      2778.7   \n",
              "2019-02-20  0.025466  0.147979  3999.820557  149.554337  0.002079      2787.0   \n",
              "2019-02-21  0.025212  0.148803  3954.118164  146.130844  0.002028      2774.2   \n",
              "2019-02-22  0.025305  0.148829  4005.526611  149.092453  0.002056      2791.2   \n",
              "2019-02-25  0.025350  0.148960  3882.696289  139.822861  0.002030      2797.1   \n",
              "\n",
              "            OIL_future  \n",
              "Date                    \n",
              "2019-02-19       56.09  \n",
              "2019-02-20       56.92  \n",
              "2019-02-21       56.96  \n",
              "2019-02-22       57.26  \n",
              "2019-02-25       55.48  "
            ]
          },
          "execution_count": 27,
          "metadata": {},
          "output_type": "execute_result"
        }
      ],
      "source": [
        "# merge the fiat, crypto and future dataframes into one dataframe\n",
        "combine_price = pd.merge(fiat, crypto, on = \"Date\", how = \"inner\")\n",
        "combine_price = pd.merge(combine_price, future, on = \"Date\", how = \"inner\")\n",
        "combine_price.set_index(\"Date\", inplace = True) # set the date as the index\n",
        "combine_price.head()"
      ]
    },
    {
      "cell_type": "markdown",
      "metadata": {
        "id": "nskSSGu9AEdM"
      },
      "source": [
        "## Compute historical returns"
      ]
    },
    {
      "cell_type": "markdown",
      "metadata": {},
      "source": [
        "Since the datasets contain only the closing prices, the daily returns (percentage changes) are derived from the price data. As the parametric and Monte-Carlo methods assume a Normal distribution of returns, log returns are preferred for the calulation of VaR below."
      ]
    },
    {
      "cell_type": "code",
      "execution_count": 28,
      "metadata": {
        "colab": {
          "base_uri": "https://localhost:8080/",
          "height": 238
        },
        "id": "hqqmaPll-oz0",
        "outputId": "06a7f5d5-ed06-4d34-fd92-802c29013859"
      },
      "outputs": [
        {
          "data": {
            "image/png": "[encoded data removed]",
            "text/plain": [
              "<Figure size 720x360 with 1 Axes>"
            ]
          },
          "metadata": {
            "needs_background": "light"
          },
          "output_type": "display_data"
        }
      ],
      "source": [
        "# calculate the daily returns\n",
        "# percentage change between the current and prior closing price\n",
        "returns = combine_price.pct_change(1).dropna() \n",
        "\n",
        "# calculate the log returns\n",
        "logreturns = np.log(1 + returns)\n",
        "\n",
        "# plot the historical daily return fluctuation of each asset\n",
        "logreturns.plot(figsize = [10, 5], alpha=0.8)\n",
        "plt.title(\"Historical Daily Return Fluctuation of Each Asset\")\n",
        "plt.show()"
      ]
    },
    {
      "cell_type": "markdown",
      "metadata": {
        "id": "B9tuRM0qsKor"
      },
      "source": [
        "From above plot we can see that \"oil_future\", and \"ARS\" both had significant negative fluctuation respectively while \"Doge\" had substaintial positive spike in the begining of 2021. If we trace further, we'll see all outstanding changes are aligned with impactful events during the time as below:\n",
        "\n",
        "- In the first half of 2020, responses to the COVID-19 pandemic led to steep declines in global petroleum demand and to volatile crude oil markets. The second half of the year was characterized by relatively stable prices as demand began to recover. As petroleum demand fell and U.S. crude oil inventories increased, West Texas Intermediate (WTI) crude oil traded at negative prices on April 20, the first time the price for the WTI futures contract fell to less than zero since trading began in 1983.(Crude Oil Prices Briefly Traded below 0 in Spring 2020 but Have since Been Mostly Flat - Today in Energy - U.S. Energy Information Administration (EIA), n.d.)\n",
        "\n",
        "- Dogecoin hit an all-time high of 0.07376 in May 2021. At its peak, these 100 investments in Dogecoin based on Musk's tweets would have been worth 28,902.86 and 23,916.68 respectively. (News and Insights, 2021)\n",
        "\n",
        "- Argentina's peso opened down 54.24% at 801 per dollar on Wednesday, following a devaluation of the currency carried out by the country's new government as part of its economic shock therapy aimed at fixing the economy.(Hur, 2023)"
      ]
    },
    {
      "cell_type": "markdown",
      "metadata": {
        "id": "U72efJFaJjGS"
      },
      "source": [
        "## 1. Historical Method (Non-Parametric)"
      ]
    },
    {
      "cell_type": "markdown",
      "metadata": {},
      "source": [
        "Using the historical method, the daily VaR of fiat, cryptocurrency and future portfolios at 99% confidence is calculated respectively for the analysis and comparison between the potential risks of the three portfolios with the same initial amount of investment ($\\$10000$) and equal weight for each asset in the portfolio. With equal weight $w = [w_1, w_2, ..., w_N]$, the daily returns of each portfolio are calculated by applying the weights to the past observations of the asset returns in the portfolio. The daily VaR at 99% level of confidence is then derived from the 1st percentile of the historical portfolio returns distribution."
      ]
    },
    {
      "cell_type": "markdown",
      "metadata": {
        "id": "z5HGfa3YNHix"
      },
      "source": [
        "### Fiat Money Portfolio"
      ]
    },
    {
      "cell_type": "code",
      "execution_count": 29,
      "metadata": {
        "colab": {
          "base_uri": "https://localhost:8080/"
        },
        "id": "0gRmltjWFw_T",
        "outputId": "50bb9de4-bf2c-4a83-ad19-65075374107d"
      },
      "outputs": [
        {
          "name": "stdout",
          "output_type": "stream",
          "text": [
            "The daily VaR of fiat portfolio at 99% confidence: $122.95\n"
          ]
        }
      ],
      "source": [
        "# VaR at 99% confidence level (1st percentile)\n",
        "w_fiat = np.array([0.5, 0.5]) # equal weight of ARS and CNY\n",
        "# calculate the daily returns of fiat portfolio\n",
        "PnL_fiat = np.sum(w_fiat*logreturns[[\"ARS\", \"CNY\"]], axis=1) \n",
        "# calculate the 1st percentile of the daily returns based on historical distribution\n",
        "var_historical_fiat = np.percentile(PnL_fiat, 1, method = \"lower\") \n",
        "var_fiat = abs(var_historical_fiat*initial_amount)\n",
        "print(f\"The daily VaR of fiat portfolio at 99% confidence: ${var_fiat:.2f}\")"
      ]
    },
    {
      "cell_type": "markdown",
      "metadata": {
        "id": "DKSWZe9BNQOU"
      },
      "source": [
        "### Cryptocurrency Portfolio"
      ]
    },
    {
      "cell_type": "code",
      "execution_count": 30,
      "metadata": {
        "colab": {
          "base_uri": "https://localhost:8080/"
        },
        "id": "0-IGhHD6NXe2",
        "outputId": "02f90441-8505-4969-c9fd-39fe15641188"
      },
      "outputs": [
        {
          "name": "stdout",
          "output_type": "stream",
          "text": [
            "The daily VaR of crypto portfolio at 99% confidence: $1379.40\n"
          ]
        }
      ],
      "source": [
        "# VaR at 99% confidence level (1st percentile)\n",
        "w_crypto = np.array([1/3, 1/3, 1/3]) # equal weight of BTC, ETH and DOGE\n",
        "# calculate the daily returns of crypto portfolio\n",
        "PnL_crypto = np.sum(w_crypto*logreturns[[\"BTC\", \"ETH\", \"DOGE\"]], axis=1)\n",
        "# calculate the 1st percentile of the daily returns based on historical distribution\n",
        "var_historical_crypto = np.percentile(PnL_crypto, 1, method = \"lower\")\n",
        "var_crypto = abs(var_historical_crypto*initial_amount)\n",
        "print(f\"The daily VaR of crypto portfolio at 99% confidence: ${var_crypto:.2f}\")"
      ]
    },
    {
      "cell_type": "markdown",
      "metadata": {
        "id": "jlVhX_OqP4Tq"
      },
      "source": [
        "### Future Portfolio"
      ]
    },
    {
      "cell_type": "code",
      "execution_count": 31,
      "metadata": {
        "colab": {
          "base_uri": "https://localhost:8080/"
        },
        "id": "YdTQ-EJ-P7E6",
        "outputId": "d710c542-78e3-44a3-ea28-d3b9a4cc139e"
      },
      "outputs": [
        {
          "name": "stdout",
          "output_type": "stream",
          "text": [
            "The daily VaR of future portfolio at 99% confidence: $502.57\n"
          ]
        }
      ],
      "source": [
        "# VaR at 99% confidence level (1st percentile)\n",
        "w_future = np.array([0.5, 0.5]) # equal weight of SPX_future and OIL_future\n",
        "# calculate the daily returns of future portfolio\n",
        "PnL_future = np.sum(w_future*logreturns[[\"SPX_future\", \"OIL_future\"]], axis=1)\n",
        "# calculate the 1st percentile of the daily returns based on historical distribution\n",
        "var_historical_future = np.percentile(PnL_future, 1, method = \"lower\")\n",
        "var_future = abs(var_historical_future*initial_amount)\n",
        "print(f\"The daily VaR of future portfolio at 99% confidence: ${var_future:.2f}\")"
      ]
    },
    {
      "cell_type": "markdown",
      "metadata": {
        "id": "c0RJgVVLj9g5"
      },
      "source": [
        "### Comparison on Potential Risk between Portfolios"
      ]
    },
    {
      "cell_type": "code",
      "execution_count": 32,
      "metadata": {
        "colab": {
          "base_uri": "https://localhost:8080/",
          "height": 472
        },
        "id": "jN5rp8Ilj6Rl",
        "outputId": "abb04b23-6a4a-4aca-fe22-a7dc70a2ee78"
      },
      "outputs": [
        {
          "data": {
            "image/png": "[encoded data removed]",
            "text/plain": [
              "<Figure size 432x288 with 1 Axes>"
            ]
          },
          "metadata": {
            "needs_background": "light"
          },
          "output_type": "display_data"
        }
      ],
      "source": [
        "# plot the historical daily VaR of each portfolio\n",
        "var_historical = pd.DataFrame()\n",
        "var_historical[\"Portfolio\"] = [\"Fiat\", \"Crypto\", \"Future\"]\n",
        "var_historical[\"VaR\"] = [var_fiat, var_crypto, var_future]\n",
        "\n",
        "plt.bar(var_historical.Portfolio, var_historical.VaR, \n",
        "        color = [\"skyblue\", \"salmon\", \"seagreen\"], \n",
        "        edgecolor = \"black\")\n",
        "plt.xlabel(\"Portfolio\")\n",
        "plt.ylabel(\"VaR\")\n",
        "plt.title(\"Daily VaR of Each Portfolio at 99% Confidence (Initial Investment=$10000)\")\n",
        "plt.show()"
      ]
    },
    {
      "cell_type": "markdown",
      "metadata": {
        "id": "HXwE5cSTp_u7"
      },
      "source": [
        "Based on our findings, we observe that the crypto portfolio has the highest risk loss among all three portfolio with daily potential loss of about $\\$1400$, where the fiat portfolio has the lowest daily VaR of about $\\$120$ with 99\\% confidence. This result aligns with our expectation that fiat is relatively more stable and less risky, while the price movements of cryptocurrency are more fluctuated, with a potential daily loss of approximately $\\frac{1400}{10000} = 14\\%$ of the initial portfolio."
      ]
    },
    {
      "cell_type": "markdown",
      "metadata": {
        "id": "uvmZraHESPwd"
      },
      "source": [
        "### Full Portfolio"
      ]
    },
    {
      "cell_type": "markdown",
      "metadata": {},
      "source": [
        "The full portfolio with all the fiat, crypto and future assets is also investigated, and the daily VaRs of this portfolio derived from the three different methods are compared and discussed."
      ]
    },
    {
      "cell_type": "code",
      "execution_count": 33,
      "metadata": {
        "colab": {
          "base_uri": "https://localhost:8080/"
        },
        "id": "omVNXRUxSTvl",
        "outputId": "662f32a7-6c82-4576-e359-d8497ef350b2"
      },
      "outputs": [
        {
          "name": "stdout",
          "output_type": "stream",
          "text": [
            "The daily VaR of full portfolio at 99% confidence: $680.00\n"
          ]
        }
      ],
      "source": [
        "# VaR at 99% confidence level (1st percentile)\n",
        "PnL = np.sum(w*logreturns, axis=1) # calculate the daily returns of full portfolio\n",
        "# calculate the 1st percentile of the daily returns based on historical distribution\n",
        "var_historical_portfolio = np.percentile(PnL, 1, method = \"lower\")\n",
        "var_hist = abs(var_historical_portfolio*initial_amount) # historical VaR\n",
        "print(f\"The daily VaR of full portfolio at 99% confidence: ${var_hist:.2f}\")"
      ]
    },
    {
      "cell_type": "markdown",
      "metadata": {},
      "source": [
        "Regarding the portfolio with all 7 assets evenly weighted, the daily VaR calculated by historical method is $680.00."
      ]
    },
    {
      "cell_type": "markdown",
      "metadata": {
        "id": "KhlypK6fMjg2"
      },
      "source": [
        "## 2. Variance-Covariance Method (Parametric)"
      ]
    },
    {
      "cell_type": "markdown",
      "metadata": {},
      "source": [
        "Before calculating the VaR using parametric method, the historical return distribution is checked, since this method assumes a Normal distribution of returns."
      ]
    },
    {
      "cell_type": "code",
      "execution_count": 34,
      "metadata": {
        "colab": {
          "base_uri": "https://localhost:8080/",
          "height": 452
        },
        "id": "40Ro9A36MmJm",
        "outputId": "3664fb14-6557-4fed-cfde-b7183c5b981e"
      },
      "outputs": [
        {
          "data": {
            "image/png": "[encoded data removed]",
            "text/plain": [
              "<Figure size 432x288 with 1 Axes>"
            ]
          },
          "metadata": {
            "needs_background": "light"
          },
          "output_type": "display_data"
        }
      ],
      "source": [
        "# plot the histogram of the full portfolio historical returns\n",
        "plt.hist(PnL, bins = len(PnL), color = \"skyblue\") \n",
        "# create a sequence of numbers from the minimum to the maximum of the full portfolio historical returns\n",
        "x = np.linspace(min(PnL), max(PnL), 1000) \n",
        "plt.plot(x, norm.pdf(x, PnL.mean(), PnL.std()), 'r-', lw=2) # plot the normal distribution curve\n",
        "plt.title(\"Distribution of Full Portfolio Historical Returns\")\n",
        "plt.show()"
      ]
    },
    {
      "cell_type": "markdown",
      "metadata": {
        "id": "lFExcYbO6fsx"
      },
      "source": [
        "As the distribution of full portfolio returns tends to be Normal, we assume that it follows a Normal distribution and meets the assumption of the parametric method. Next, the full portfolio average return and standard deviation are computed for the derivation of VaR. To obtain the portfolio average return, the weights of each asset in the current portfolio are applied to the historical return data of the corresponding asset. By computing the covariance matrix of assets in the portfolio, the portfolio standard deviation can be calculated using the formula,\n",
        "\n",
        "$$\n",
        "\\begin{aligned}\n",
        "\\sigma = \\sqrt{wCw^T} \\text{, where weight } w = [w_1, w_2, ..., w_N] \\text{ and C is the covariance matrix.}\n",
        "\\end{aligned}\n",
        "$$"
      ]
    },
    {
      "cell_type": "code",
      "execution_count": 35,
      "metadata": {
        "colab": {
          "base_uri": "https://localhost:8080/"
        },
        "id": "0bh2mWi5MtVJ",
        "outputId": "5e8bec3a-2594-454e-e471-f64e898b6cdb"
      },
      "outputs": [
        {
          "name": "stdout",
          "output_type": "stream",
          "text": [
            "The portfolio average return: 0.08%\n",
            "The portolio standard deviation: 2.48%\n"
          ]
        }
      ],
      "source": [
        "# average return of each asset\n",
        "m = logreturns.mean()\n",
        "# covariance matrix\n",
        "C = logreturns.cov()\n",
        "# portfolio average return\n",
        "muv = m@w.T\n",
        "print(f\"The portfolio average return: {muv*100:.2f}%\")\n",
        "# portfolio standard deviation\n",
        "sigmav = np.sqrt(w@C@w.T)\n",
        "print(f\"The portolio standard deviation: {sigmav*100:.2f}%\")"
      ]
    },
    {
      "cell_type": "markdown",
      "metadata": {},
      "source": [
        "Using the formula:\n",
        "$$\n",
        "VaR = \\mu + z_{0.01}*\\sigma\n",
        "$$"
      ]
    },
    {
      "cell_type": "code",
      "execution_count": 36,
      "metadata": {
        "colab": {
          "base_uri": "https://localhost:8080/"
        },
        "id": "gq39QDroMydW",
        "outputId": "1ff43a92-420d-4446-cab7-ef1d4558b1c6"
      },
      "outputs": [
        {
          "name": "stdout",
          "output_type": "stream",
          "text": [
            "The daily VaR of full portfolio at 99% confidence: $569.47\n"
          ]
        }
      ],
      "source": [
        "# VaR at 99% confidence level (1st percentile)\n",
        "var_portfolio = muv - sigmav*norm.ppf(0.99) # assumed Normal distribution\n",
        "var_cov_portfolio = norm.ppf(0.01, muv, sigmav) \n",
        "var_param = abs(var_cov_portfolio*initial_amount) # parametric (variance-covariance) VaR\n",
        "print(f\"The daily VaR of full portfolio at 99% confidence: ${var_param:.2f}\")"
      ]
    },
    {
      "cell_type": "markdown",
      "metadata": {
        "id": "HWdPje17u0De"
      },
      "source": [
        "Regarding the portfolio with all 7 assets evenly weighted, the daily VaR using Variance-Covariance Method will be $569.47."
      ]
    },
    {
      "cell_type": "markdown",
      "metadata": {
        "id": "0wvTFGXzP146"
      },
      "source": [
        "## 3. Monte Carlo Simulation"
      ]
    },
    {
      "cell_type": "markdown",
      "metadata": {},
      "source": [
        "Simulation is performed for each asset in the portfolio, where the daily returns are simulated from Normal distribution. Thus, the distribution of each asset is checked below."
      ]
    },
    {
      "cell_type": "code",
      "execution_count": 37,
      "metadata": {
        "colab": {
          "base_uri": "https://localhost:8080/",
          "height": 1000
        },
        "id": "AwD2p3W50gud",
        "outputId": "87677953-61e0-42f0-bf23-d9d756f4e504"
      },
      "outputs": [
        {
          "data": {
            "image/png": "[encoded data removed]",
            "text/plain": [
              "<Figure size 720x1080 with 7 Axes>"
            ]
          },
          "metadata": {
            "needs_background": "light"
          },
          "output_type": "display_data"
        }
      ],
      "source": [
        "# check the distribution of each asset\n",
        "assets = {\"ARS\", \"CNY\", \"BTC\", \"ETH\", \"DOGE\", \"SPX_future\", \"OIL_future\"}\n",
        "fig, axs = plt.subplots(len(assets), 1, figsize=(10, 15), sharex=True) # create a grid of subplots\n",
        "for i, asset in enumerate(assets): \n",
        "    # plot the histogram of the historical returns\n",
        "    axs[i].hist(logreturns[asset], bins = len(logreturns), histtype = \"stepfilled\", color = \"skyblue\") \n",
        "    # create a sequence of numbers from the minimum to the maximum of the historical returns\n",
        "    x = np.linspace(muv - 3*sigmav, muv + 3*sigmav,len(logreturns[asset])) \n",
        "    axs[i].plot(x, norm.pdf(x, muv, sigmav), \"r\") # plot the normal distribution curve\n",
        "    axs[i].set_title(\"{} Daily Returns VS Normal Distribution\".format(logreturns[asset].name))\n",
        "plt.tight_layout() # adjust the subplots to fit into the figure area\n",
        "plt.show()"
      ]
    },
    {
      "cell_type": "markdown",
      "metadata": {
        "id": "Ap1EJLO17QLC"
      },
      "source": [
        "The distribution of each asset return looks to be Normal, therefore, we assume they are Normally distributed, and the return simulations below are derived from Normal distribution. By calculating the historical avearge return of each asset $m = [\\mu_1, \\mu_2, ..., \\mu_7]$, and the corresponding standard deviation $sd = [\\sigma_1, \\sigma_2, ..., \\sigma_7]$, 10000 return scenarios for the 7 assets in the portfolio are simulated from Normal distribution with the calculated average returns and standard deviations."
      ]
    },
    {
      "cell_type": "code",
      "execution_count": 42,
      "metadata": {
        "colab": {
          "base_uri": "https://localhost:8080/"
        },
        "id": "ySKwNKjDQ0ZO",
        "outputId": "98240ce6-1b5b-4b19-dbe7-c982d6dae258"
      },
      "outputs": [
        {
          "data": {
            "text/plain": [
              "(10000, 7)"
            ]
          },
          "execution_count": 42,
          "metadata": {},
          "output_type": "execute_result"
        }
      ],
      "source": [
        "# set the number of simulations as 10000\n",
        "num_simulations = 10000\n",
        "# standard deviation of each asset return\n",
        "sd = logreturns.std()\n",
        "# simulate 10000 return scenarios for 7 assets\n",
        "rng = np.random.default_rng(42) # set the random seed\n",
        "returns_sim = rng.normal(m, sd, size=(num_simulations, N)) # simulate returns from Normal distribution\n",
        "returns_sim.shape"
      ]
    },
    {
      "cell_type": "code",
      "execution_count": 44,
      "metadata": {
        "colab": {
          "base_uri": "https://localhost:8080/"
        },
        "id": "Ppd9-CAS0mP7",
        "outputId": "455038c4-44a3-49c4-d7b4-67828240a782"
      },
      "outputs": [
        {
          "name": "stdout",
          "output_type": "stream",
          "text": [
            "The daily VaR of full portfolio at 99% confidence: $413.60\n"
          ]
        }
      ],
      "source": [
        "# compute simulated portfolio returns\n",
        "PnL_sim = np.sum(returns_sim*w, axis=1) \n",
        " # calculate the 1st percentile of the simulated portfolio returns\n",
        "var_montecarlo_portfolio = np.percentile(PnL_sim, 1, method = \"lower\")\n",
        "var_montecarlo = abs(var_montecarlo_portfolio*initial_amount) # Monte Carlo VaR\n",
        "print(f\"The daily VaR of full portfolio at 99% confidence: ${var_montecarlo:.2f}\")"
      ]
    },
    {
      "cell_type": "markdown",
      "metadata": {
        "id": "VLHskUIAwYOk"
      },
      "source": [
        "Regarding the portfolio with all 7 assets evenly weighted, the daily VaR using Monte-Carlo Method will be $413.60."
      ]
    },
    {
      "cell_type": "markdown",
      "metadata": {
        "id": "6iUW20lYChkz"
      },
      "source": [
        "# Conclusion"
      ]
    },
    {
      "cell_type": "markdown",
      "metadata": {},
      "source": [
        "Based on our findings, the three methods provides a daily VaR of the portfolio in the range from roughly $\\$400$ to $\\$700$, implying a potential maximum daily loss within this range, with a 99% level of confidence."
      ]
    },
    {
      "cell_type": "code",
      "execution_count": 40,
      "metadata": {
        "colab": {
          "base_uri": "https://localhost:8080/",
          "height": 472
        },
        "id": "gxxhY0RcCfpw",
        "outputId": "743fd55a-c068-4db7-e820-a9b66abffa9d"
      },
      "outputs": [
        {
          "data": {
            "image/png": "[encoded data removed]",
            "text/plain": [
              "<Figure size 432x288 with 1 Axes>"
            ]
          },
          "metadata": {
            "needs_background": "light"
          },
          "output_type": "display_data"
        }
      ],
      "source": [
        "# plot the distribution of simulated portfolio returns\n",
        "var_all = pd.DataFrame()\n",
        "var_all[\"Method\"] = [\"Historical\", \"Parametric\", \"Monte Carlo\"]\n",
        "var_all[\"VaR\"] = [var_hist, var_param, var_montecarlo]\n",
        "\n",
        "plt.bar(var_all.Method, var_all.VaR, \n",
        "        color = [\"lightgreen\", \"lightcoral\", \"lightblue\"], \n",
        "        edgecolor = \"black\")\n",
        "plt.xlabel(\"Method\")\n",
        "plt.ylabel(\"VaR\")\n",
        "plt.title(\"Daily VaR of Portfolio at 99% Confidence By Method (Initial Investment=$10000)\")\n",
        "plt.show()"
      ]
    },
    {
      "cell_type": "markdown",
      "metadata": {
        "id": "x7H63pUbxJZX"
      },
      "source": [
        "- Based on our data exploration and method testing, we conclude that the crypto portfolio is considered as the highest risk.\n",
        "\n",
        "- The fiat portfolio on the contrary, is considered with the lowest risk with the least max loss amount.\n",
        "\n",
        "- Comparing all three VaR computing methods for portfolio with investment in all 7 assets evenly, Monte Carlo Simulation provides the least max loss amount and Historical Method's outcome with the most max loss amount.\n",
        "\n",
        "In overall, given the noticeable difference between the VaR values of the three methods, there is no universally the \"best\" method for calculating VaR, as each method has its strengths and limitations. The choice of method depends on factors such as the availability of data, the complexity of the portfolio, the desired level of accuracy, and the specific characteristics of the risk being assessed. In practice, it's often useful to use multiple methods and compare the results to gain a more comprehensive understanding of the portfolio's risk profile. Additionally, sensitivity analysis and stress testing can help assess the robustness of VaR estimates under different modeling assumptions."
      ]
    },
    {
      "cell_type": "markdown",
      "metadata": {
        "id": "lRGh1ZsavuU0"
      },
      "source": [
        "# References\n",
        "\n",
        "ARS/USD (ARSUSD=X) Live Rate, Chart & News - Yahoo Finance. (2024). @YahooFinance. https://finance.yahoo.com/quote/ARSUSD%3DX/history\n",
        "\n",
        "‌Bitcoin USD (BTC-USD) Price History & Historical Data - Yahoo Finance. (2024). @YahooFinance. https://finance.yahoo.com/quote/BTC-USD/history\n",
        "\n",
        "CNY/USD (CNYUSD=X) Live Rate, Chart & News - Yahoo Finance. (2024). @YahooFinance. https://finance.yahoo.com/quote/CNYUSD%3DX/history\n",
        "\n",
        "‌‌Crude oil prices briefly traded below $0 in spring 2020 but have since been mostly flat - Today in Energy - U.S. Energy Information Administration (EIA). (n.d.). Www.eia.gov. https://www.eia.gov/todayinenergy/detail.php?id=46336\n",
        "\n",
        "Crude Oil WTI (NYM $/bbl) Front Month. (2024). MarketWatch. https://www.marketwatch.com/investing/future/cl.1?mod=futures-market-data\n",
        "\n",
        "Dogecoin USD (DOGE-USD) Price History & Historical Data - Yahoo Finance. (2024). @YahooFinance. https://finance.yahoo.com/quote/DOGE-USD/history\n",
        "\n",
        "‌Ethereum USD (ETH-USD) Price History & Historical Data - Yahoo Finance. (2024). @YahooFinance. https://finance.yahoo.com/quote/ETH-USD/history\n",
        "\n",
        "‌Hur, K. (2023). Argentina to devalue peso by over 50% as part of emergency economic reforms | CNN Business. CNN. https://www.cnn.com/2023/12/12/economy/argentina-milei-peso-dollar/index.html\n",
        "\n",
        "E-Mini S&P 500 Future Continuous Contract. (2024). MarketWatch. https://www.marketwatch.com/investing/future/es00?mod=futures-market-data\n",
        "\n",
        "Manganelli, S., & Engle, R. (2001). E U R O P E A N C E N T R A L B A N K VALUE AT RISK MODELS IN FINANCE. https://www.ecb.europa.eu/pub/pdf/scpwps/ecbwp075.pdf\n",
        "\n",
        "News and Insights. (2021). Nasdaq.com. https://www.nasdaq.com/articles/if-you-invested-\n",
        "\n",
        "Kenton, Will. 2023. “Value at Risk (VaR) Explained.” Investopedia. March 23, 2023. https://www.investopedia.com/terms/v/var.asp.\n",
        "\n",
        "‌Team, W. (2022). Value At Risk. WallStreetMojo. https://www.wallstreetmojo.com/value-at-risk/\n",
        "\n",
        "‌Yahoo Finance. (2024). @YahooFinance. https://finance.yahoo.com/\n",
        "\n",
        "‌\n"
      ]
    }
  ],
  "metadata": {
    "colab": {
      "provenance": []
    },
    "kaggle": {
      "accelerator": "none",
      "dataSources": [],
      "dockerImageVersionId": 30396,
      "isGpuEnabled": false,
      "isInternetEnabled": true,
      "language": "python",
      "sourceType": "notebook"
    },
    "kernelspec": {
      "display_name": "Python 3",
      "language": "python",
      "name": "python3"
    },
    "language_info": {
      "codemirror_mode": {
        "name": "ipython",
        "version": 3
      },
      "file_extension": ".py",
      "mimetype": "text/x-python",
      "name": "python",
      "nbconvert_exporter": "python",
      "pygments_lexer": "ipython3",
      "version": "3.10.9"
    }
  },
  "nbformat": 4,
  "nbformat_minor": 0
}
